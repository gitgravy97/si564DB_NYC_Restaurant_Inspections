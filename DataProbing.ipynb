{
 "cells": [
  {
   "cell_type": "markdown",
   "metadata": {},
   "source": [
    "# Exploring Database // Probing for Re-Draft Potential"
   ]
  },
  {
   "cell_type": "code",
   "execution_count": 2,
   "metadata": {},
   "outputs": [],
   "source": [
    "import pandas as pd"
   ]
  },
  {
   "cell_type": "code",
   "execution_count": 3,
   "metadata": {},
   "outputs": [],
   "source": [
    "df = pd.read_csv('data/DOHMH_NYC_Restaurant_Inspection_Results.csv')"
   ]
  },
  {
   "cell_type": "markdown",
   "metadata": {},
   "source": [
    "<h2>Redraft #1</h2> \n",
    "\n",
    "First thing first :: Need to verify whether or not DBA to Phone are exact. In the case of franchising results in differential phone number for owner, would need to migrate phone number into table other than just the Business table."
   ]
  },
  {
   "cell_type": "code",
   "execution_count": 3,
   "metadata": {},
   "outputs": [
    {
     "data": {
      "text/plain": [
       "[array(['2127772042', '2127790185', '2027596788'], dtype=object),\n",
       " array(['7183842152', '7186872946'], dtype=object),\n",
       " array(['2122604416', '2126272808', '6464227022', '6468611281',\n",
       "        '6467073424', '2126649608', '6468632522', '9174727874',\n",
       "        '2122604414', '2122131755', '9146564534'], dtype=object),\n",
       " array(['212_239111', '9177461577', '7187970336', '2122391117',\n",
       "        '9173749161', '2127770600', '9175878888'], dtype=object),\n",
       " array(['9292789914', '7187777133'], dtype=object)]"
      ]
     },
     "execution_count": 3,
     "metadata": {},
     "output_type": "execute_result"
    }
   ],
   "source": [
    "[i for i in df.groupby('DBA').PHONE.unique() if len(i)>1][:5]"
   ]
  },
  {
   "cell_type": "code",
   "execution_count": 4,
   "metadata": {},
   "outputs": [],
   "source": [
    "#df[df.PHONE=='2127772042']"
   ]
  },
  {
   "cell_type": "markdown",
   "metadata": {},
   "source": [
    "Alright, yeah, we need to move that.\n",
    "***"
   ]
  },
  {
   "cell_type": "markdown",
   "metadata": {},
   "source": [
    "We also need to check into the different fields that should maybe be pulled out to achieve more atomic structure. See how much variation and length there is to these string fields."
   ]
  },
  {
   "cell_type": "markdown",
   "metadata": {},
   "source": [
    "***\n",
    "<h3>Violation Description</h3>\n",
    "Regulatory // Legal Text re: specified code broken"
   ]
  },
  {
   "cell_type": "code",
   "execution_count": 78,
   "metadata": {},
   "outputs": [
    {
     "data": {
      "text/plain": [
       "Non-food contact surface improperly constructed. Unacceptable material used. Non-food contact surface or equipment improperly maintained and/or not properly sealed, raised, spaced or movable to allow accessibility for cleaning on all sides, above and underneath the unit.    56325\n",
       "Facility not vermin proof. Harborage or conditions conducive to attracting vermin to the premises and/or allowing vermin to exist.                                                                                                                                                 43636\n",
       "Evidence of mice or live mice present in facility's food and/or non-food areas.                                                                                                                                                                                                    29423\n",
       "Food contact surface not properly washed, rinsed and sanitized after each use and following any activity when contamination may have occurred.                                                                                                                                     26966\n",
       "Food not protected from potential source of contamination during storage, preparation, transportation, display or service.                                                                                                                                                         23714\n",
       "                                                                                                                                                                                                                                                                                   ...  \n",
       "Original label for tobacco products sold or offered for sale.                                                                                                                                                                                                                          2\n",
       "Non-food contact surface improperly constructed. Unacceptable material used. Non-food contact surface or equipment improperly maintained.                                                                                                                                              1\n",
       "Food item spoiled, adulterated, contaminated or cross-contaminated.                                                                                                                                                                                                                    1\n",
       "Unprotected food re-served.                                                                                                                                                                                                                                                            1\n",
       "Reduced oxygen packaged (ROP) foods not cooled by an approved method whereby the internal food temperature is reduced to 38º F within two hours of cooking and if necessary further cooled to a temperature of 34º F within six hours of reaching 38º F.                               1\n",
       "Name: VIOLATION DESCRIPTION, Length: 92, dtype: int64"
      ]
     },
     "execution_count": 78,
     "metadata": {},
     "output_type": "execute_result"
    }
   ],
   "source": [
    "df['VIOLATION DESCRIPTION'].value_counts()"
   ]
  },
  {
   "cell_type": "code",
   "execution_count": 71,
   "metadata": {},
   "outputs": [
    {
     "data": {
      "text/html": [
       "<div>\n",
       "<style scoped>\n",
       "    .dataframe tbody tr th:only-of-type {\n",
       "        vertical-align: middle;\n",
       "    }\n",
       "\n",
       "    .dataframe tbody tr th {\n",
       "        vertical-align: top;\n",
       "    }\n",
       "\n",
       "    .dataframe thead th {\n",
       "        text-align: right;\n",
       "    }\n",
       "</style>\n",
       "<table border=\"1\" class=\"dataframe\">\n",
       "  <thead>\n",
       "    <tr style=\"text-align: right;\">\n",
       "      <th></th>\n",
       "      <th>ViolationDesc</th>\n",
       "      <th>ViolationLen</th>\n",
       "    </tr>\n",
       "  </thead>\n",
       "  <tbody>\n",
       "    <tr>\n",
       "      <th>19</th>\n",
       "      <td>Caloric content not posted on menus, menu boar...</td>\n",
       "      <td>360</td>\n",
       "    </tr>\n",
       "    <tr>\n",
       "      <th>14</th>\n",
       "      <td>Filth flies or food/refuse/sewage-associated (...</td>\n",
       "      <td>289</td>\n",
       "    </tr>\n",
       "    <tr>\n",
       "      <th>10</th>\n",
       "      <td>Non-food contact surface improperly constructe...</td>\n",
       "      <td>271</td>\n",
       "    </tr>\n",
       "  </tbody>\n",
       "</table>\n",
       "</div>"
      ],
      "text/plain": [
       "                                        ViolationDesc  ViolationLen\n",
       "19  Caloric content not posted on menus, menu boar...           360\n",
       "14  Filth flies or food/refuse/sewage-associated (...           289\n",
       "10  Non-food contact surface improperly constructe...           271"
      ]
     },
     "execution_count": 71,
     "metadata": {},
     "output_type": "execute_result"
    }
   ],
   "source": [
    "#### just use len(str(x)) because np.nan is techincally a float\n",
    "temp = pd.DataFrame(df['VIOLATION DESCRIPTION'].unique(), columns=[\"ViolationDesc\"])\n",
    "temp['ViolationLen'] = temp['ViolationDesc'].apply(lambda x: len(str(x)))\n",
    "temp = temp.sort_values(\"ViolationLen\", ascending=False)\n",
    "temp.head(3)"
   ]
  },
  {
   "cell_type": "code",
   "execution_count": 73,
   "metadata": {},
   "outputs": [
    {
     "name": "stdout",
     "output_type": "stream",
     "text": [
      "Violation Description:\n",
      "93 unique values\n",
      "Longest is 360 characters\n",
      "\n",
      "Longest content:\n",
      "\tCaloric content not posted on menus, menu boards or food tags, in a food service establishment that is 1 of 15 or more outlets operating the same type of business nationally under common ownership or control, or as a franchise or doing business under the same name, for each menu item that is served in portions, the size and content of which are standardized.\n"
     ]
    }
   ],
   "source": [
    "print(\"Violation Description:\")\n",
    "print(f\"{len(df['VIOLATION DESCRIPTION'].unique())} unique values\")\n",
    "print(f\"Longest is {temp.ViolationLen.iloc[0]} characters\")\n",
    "print(f\"\\nLongest content:\\n\\t{temp.ViolationDesc.iloc[0]}\")"
   ]
  },
  {
   "cell_type": "markdown",
   "metadata": {},
   "source": [
    "***\n",
    "<h3>\"Action\"</h3>\n",
    "Outcome of a given inspection"
   ]
  },
  {
   "cell_type": "code",
   "execution_count": 77,
   "metadata": {},
   "outputs": [
    {
     "data": {
      "text/plain": [
       "Violations were cited in the following area(s).                                                                                        367514\n",
       "Establishment Closed by DOHMH.  Violations were cited in the following area(s) and those requiring immediate action were addressed.     14736\n",
       "Establishment re-opened by DOHMH                                                                                                         4300\n",
       "No violations were recorded at the time of this inspection.                                                                              4141\n",
       "Establishment re-closed by DOHMH                                                                                                         1106\n",
       "Name: ACTION, dtype: int64"
      ]
     },
     "execution_count": 77,
     "metadata": {},
     "output_type": "execute_result"
    }
   ],
   "source": [
    "df['ACTION'].value_counts()"
   ]
  },
  {
   "cell_type": "code",
   "execution_count": 75,
   "metadata": {},
   "outputs": [
    {
     "data": {
      "text/html": [
       "<div>\n",
       "<style scoped>\n",
       "    .dataframe tbody tr th:only-of-type {\n",
       "        vertical-align: middle;\n",
       "    }\n",
       "\n",
       "    .dataframe tbody tr th {\n",
       "        vertical-align: top;\n",
       "    }\n",
       "\n",
       "    .dataframe thead th {\n",
       "        text-align: right;\n",
       "    }\n",
       "</style>\n",
       "<table border=\"1\" class=\"dataframe\">\n",
       "  <thead>\n",
       "    <tr style=\"text-align: right;\">\n",
       "      <th></th>\n",
       "      <th>OutcomeDesc</th>\n",
       "      <th>OutcomeLen</th>\n",
       "    </tr>\n",
       "  </thead>\n",
       "  <tbody>\n",
       "    <tr>\n",
       "      <th>2</th>\n",
       "      <td>Establishment Closed by DOHMH.  Violations wer...</td>\n",
       "      <td>131</td>\n",
       "    </tr>\n",
       "    <tr>\n",
       "      <th>4</th>\n",
       "      <td>No violations were recorded at the time of thi...</td>\n",
       "      <td>59</td>\n",
       "    </tr>\n",
       "    <tr>\n",
       "      <th>0</th>\n",
       "      <td>Violations were cited in the following area(s).</td>\n",
       "      <td>47</td>\n",
       "    </tr>\n",
       "    <tr>\n",
       "      <th>1</th>\n",
       "      <td>Establishment re-opened by DOHMH</td>\n",
       "      <td>32</td>\n",
       "    </tr>\n",
       "    <tr>\n",
       "      <th>3</th>\n",
       "      <td>Establishment re-closed by DOHMH</td>\n",
       "      <td>32</td>\n",
       "    </tr>\n",
       "    <tr>\n",
       "      <th>5</th>\n",
       "      <td>NaN</td>\n",
       "      <td>3</td>\n",
       "    </tr>\n",
       "  </tbody>\n",
       "</table>\n",
       "</div>"
      ],
      "text/plain": [
       "                                         OutcomeDesc  OutcomeLen\n",
       "2  Establishment Closed by DOHMH.  Violations wer...         131\n",
       "4  No violations were recorded at the time of thi...          59\n",
       "0    Violations were cited in the following area(s).          47\n",
       "1                   Establishment re-opened by DOHMH          32\n",
       "3                   Establishment re-closed by DOHMH          32\n",
       "5                                                NaN           3"
      ]
     },
     "execution_count": 75,
     "metadata": {},
     "output_type": "execute_result"
    }
   ],
   "source": [
    "#### just use len(str(x)) because np.nan is techincally a float\n",
    "temp = pd.DataFrame(df['ACTION'].unique(), columns=[\"OutcomeDesc\"])\n",
    "temp['OutcomeLen'] = temp['OutcomeDesc'].apply(lambda x: len(str(x)))\n",
    "temp = temp.sort_values(\"OutcomeLen\", ascending=False)\n",
    "temp"
   ]
  },
  {
   "cell_type": "code",
   "execution_count": 76,
   "metadata": {},
   "outputs": [
    {
     "name": "stdout",
     "output_type": "stream",
     "text": [
      "Outcome Description:\n",
      "6 unique values\n",
      "Longest is 131 characters\n",
      "\n",
      "Longest content:\n",
      "\tEstablishment Closed by DOHMH.  Violations were cited in the following area(s) and those requiring immediate action were addressed.\n"
     ]
    }
   ],
   "source": [
    "print(\"Outcome Description:\")\n",
    "print(f\"{len(temp['OutcomeDesc'].unique())} unique values\")\n",
    "print(f\"Longest is {temp.OutcomeLen.iloc[0]} characters\")\n",
    "print(f\"\\nLongest content:\\n\\t{temp.OutcomeDesc.iloc[0]}\")"
   ]
  },
  {
   "cell_type": "markdown",
   "metadata": {},
   "source": [
    "***\n",
    "<h3>Inspection Type</h3>"
   ]
  },
  {
   "cell_type": "code",
   "execution_count": 79,
   "metadata": {},
   "outputs": [
    {
     "data": {
      "text/plain": [
       "Cycle Inspection / Initial Inspection                          230317\n",
       "Cycle Inspection / Re-inspection                                94227\n",
       "Pre-permit (Operational) / Initial Inspection                   27949\n",
       "Pre-permit (Operational) / Re-inspection                        12040\n",
       "Administrative Miscellaneous / Initial Inspection                7344\n",
       "Cycle Inspection / Reopening Inspection                          4337\n",
       "Pre-permit (Non-operational) / Initial Inspection                3281\n",
       "Smoke-Free Air Act / Initial Inspection                          1947\n",
       "Administrative Miscellaneous / Re-inspection                     1946\n",
       "Trans Fat / Initial Inspection                                   1505\n",
       "Pre-permit (Operational) / Compliance Inspection                 1251\n",
       "Calorie Posting / Initial Inspection                             1109\n",
       "Inter-Agency Task Force / Initial Inspection                     1067\n",
       "Pre-permit (Operational) / Reopening Inspection                  1053\n",
       "Cycle Inspection / Compliance Inspection                          709\n",
       "Smoke-Free Air Act / Re-inspection                                445\n",
       "Trans Fat / Re-inspection                                         323\n",
       "Pre-permit (Non-operational) / Re-inspection                      292\n",
       "Calorie Posting / Re-inspection                                   216\n",
       "Administrative Miscellaneous / Compliance Inspection              113\n",
       "Pre-permit (Operational) / Second Compliance Inspection            97\n",
       "Administrative Miscellaneous / Reopening Inspection                90\n",
       "Smoke-Free Air Act / Limited Inspection                            31\n",
       "Pre-permit (Non-operational) / Compliance Inspection               29\n",
       "Trans Fat / Compliance Inspection                                  23\n",
       "Calorie Posting / Compliance Inspection                            15\n",
       "Administrative Miscellaneous / Second Compliance Inspection        14\n",
       "Cycle Inspection / Second Compliance Inspection                    14\n",
       "Smoke-Free Air Act / Compliance Inspection                          9\n",
       "Trans Fat / Second Compliance Inspection                            3\n",
       "Pre-permit (Non-operational) / Second Compliance Inspection         1\n",
       "Name: INSPECTION TYPE, dtype: int64"
      ]
     },
     "execution_count": 79,
     "metadata": {},
     "output_type": "execute_result"
    }
   ],
   "source": [
    "df[\"INSPECTION TYPE\"].value_counts()"
   ]
  },
  {
   "cell_type": "code",
   "execution_count": 81,
   "metadata": {},
   "outputs": [
    {
     "data": {
      "text/html": [
       "<div>\n",
       "<style scoped>\n",
       "    .dataframe tbody tr th:only-of-type {\n",
       "        vertical-align: middle;\n",
       "    }\n",
       "\n",
       "    .dataframe tbody tr th {\n",
       "        vertical-align: top;\n",
       "    }\n",
       "\n",
       "    .dataframe thead th {\n",
       "        text-align: right;\n",
       "    }\n",
       "</style>\n",
       "<table border=\"1\" class=\"dataframe\">\n",
       "  <thead>\n",
       "    <tr style=\"text-align: right;\">\n",
       "      <th></th>\n",
       "      <th>InspectionDesc</th>\n",
       "      <th>InspectionLen</th>\n",
       "    </tr>\n",
       "  </thead>\n",
       "  <tbody>\n",
       "    <tr>\n",
       "      <th>31</th>\n",
       "      <td>Pre-permit (Non-operational) / Second Complian...</td>\n",
       "      <td>59</td>\n",
       "    </tr>\n",
       "    <tr>\n",
       "      <th>28</th>\n",
       "      <td>Administrative Miscellaneous / Second Complian...</td>\n",
       "      <td>59</td>\n",
       "    </tr>\n",
       "    <tr>\n",
       "      <th>12</th>\n",
       "      <td>Pre-permit (Operational) / Second Compliance I...</td>\n",
       "      <td>55</td>\n",
       "    </tr>\n",
       "  </tbody>\n",
       "</table>\n",
       "</div>"
      ],
      "text/plain": [
       "                                       InspectionDesc  InspectionLen\n",
       "31  Pre-permit (Non-operational) / Second Complian...             59\n",
       "28  Administrative Miscellaneous / Second Complian...             59\n",
       "12  Pre-permit (Operational) / Second Compliance I...             55"
      ]
     },
     "execution_count": 81,
     "metadata": {},
     "output_type": "execute_result"
    }
   ],
   "source": [
    "#### just use len(str(x)) because np.nan is techincally a float\n",
    "temp = pd.DataFrame(df['INSPECTION TYPE'].unique(), columns=[\"InspectionDesc\"])\n",
    "temp['InspectionLen'] = temp['InspectionDesc'].apply(lambda x: len(str(x)))\n",
    "temp = temp.sort_values(\"InspectionLen\", ascending=False)\n",
    "temp.head(3)"
   ]
  },
  {
   "cell_type": "code",
   "execution_count": 82,
   "metadata": {},
   "outputs": [
    {
     "name": "stdout",
     "output_type": "stream",
     "text": [
      "Inspection Description:\n",
      "32 unique values\n",
      "Longest is 59 characters\n",
      "\n",
      "Longest content:\n",
      "\tPre-permit (Non-operational) / Second Compliance Inspection\n"
     ]
    }
   ],
   "source": [
    "print(\"Inspection Description:\")\n",
    "print(f\"{len(temp['InspectionDesc'].unique())} unique values\")\n",
    "print(f\"Longest is {temp.InspectionLen.iloc[0]} characters\")\n",
    "print(f\"\\nLongest content:\\n\\t{temp.InspectionDesc.iloc[0]}\")"
   ]
  },
  {
   "cell_type": "markdown",
   "metadata": {},
   "source": [
    "***\n",
    "<h3>Cuisine Description</h3>"
   ]
  },
  {
   "cell_type": "code",
   "execution_count": 7,
   "metadata": {},
   "outputs": [
    {
     "data": {
      "text/plain": [
       "American                                      76261\n",
       "Chinese                                       41329\n",
       "Pizza                                         25338\n",
       "Café/Coffee/Tea                               19586\n",
       "Latin American (Central and South America)    17488\n",
       "                                              ...  \n",
       "Fruits/Vegetables                                54\n",
       "Czech                                            43\n",
       "Nuts/Confectionary                               43\n",
       "Chilean                                          32\n",
       "Basque                                            9\n",
       "Name: CUISINE DESCRIPTION, Length: 82, dtype: int64"
      ]
     },
     "execution_count": 7,
     "metadata": {},
     "output_type": "execute_result"
    }
   ],
   "source": [
    "thing[\"CUISINE DESCRIPTION\"].value_counts()"
   ]
  },
  {
   "cell_type": "code",
   "execution_count": 83,
   "metadata": {},
   "outputs": [
    {
     "data": {
      "text/html": [
       "<div>\n",
       "<style scoped>\n",
       "    .dataframe tbody tr th:only-of-type {\n",
       "        vertical-align: middle;\n",
       "    }\n",
       "\n",
       "    .dataframe tbody tr th {\n",
       "        vertical-align: top;\n",
       "    }\n",
       "\n",
       "    .dataframe thead th {\n",
       "        text-align: right;\n",
       "    }\n",
       "</style>\n",
       "<table border=\"1\" class=\"dataframe\">\n",
       "  <thead>\n",
       "    <tr style=\"text-align: right;\">\n",
       "      <th></th>\n",
       "      <th>FoodDesc</th>\n",
       "      <th>FoodLen</th>\n",
       "    </tr>\n",
       "  </thead>\n",
       "  <tbody>\n",
       "    <tr>\n",
       "      <th>13</th>\n",
       "      <td>Bottled beverages, including water, sodas, jui...</td>\n",
       "      <td>55</td>\n",
       "    </tr>\n",
       "    <tr>\n",
       "      <th>24</th>\n",
       "      <td>Latin American (Central and South America)</td>\n",
       "      <td>42</td>\n",
       "    </tr>\n",
       "    <tr>\n",
       "      <th>15</th>\n",
       "      <td>Caribbean (Inc. Cuban, Puerto Rican)</td>\n",
       "      <td>36</td>\n",
       "    </tr>\n",
       "  </tbody>\n",
       "</table>\n",
       "</div>"
      ],
      "text/plain": [
       "                                             FoodDesc  FoodLen\n",
       "13  Bottled beverages, including water, sodas, jui...       55\n",
       "24         Latin American (Central and South America)       42\n",
       "15               Caribbean (Inc. Cuban, Puerto Rican)       36"
      ]
     },
     "execution_count": 83,
     "metadata": {},
     "output_type": "execute_result"
    }
   ],
   "source": [
    "#### just use len(str(x)) because np.nan is techincally a float\n",
    "temp = pd.DataFrame(df[\"CUISINE DESCRIPTION\"].unique(), columns=[\"FoodDesc\"])\n",
    "temp['FoodLen'] = temp['FoodDesc'].apply(lambda x: len(str(x)))\n",
    "temp = temp.sort_values(\"FoodLen\", ascending=False)\n",
    "temp.head(3)"
   ]
  },
  {
   "cell_type": "code",
   "execution_count": 84,
   "metadata": {},
   "outputs": [
    {
     "name": "stdout",
     "output_type": "stream",
     "text": [
      "Food Description:\n",
      "82 unique values\n",
      "Longest is 55 characters\n",
      "\n",
      "Longest content:\n",
      "\tBottled beverages, including water, sodas, juices, etc.\n"
     ]
    }
   ],
   "source": [
    "print(\"Food Description:\")\n",
    "print(f\"{len(temp['FoodDesc'].unique())} unique values\")\n",
    "print(f\"Longest is {temp.FoodLen.iloc[0]} characters\")\n",
    "print(f\"\\nLongest content:\\n\\t{temp.FoodDesc.iloc[0]}\")"
   ]
  },
  {
   "cell_type": "markdown",
   "metadata": {},
   "source": [
    "# Redraft 2 Considerations\n",
    "\n",
    "At this point, if feels like we need to table-out Borough, but do we also need to migrate it.\n",
    "\n",
    "What if we do Violations <-- Address or \"Location\" <-- AdvancedLocation?\n",
    "\n",
    "Currently we have Violations <-- Address on an AddressID foreign key and Violations <-- AdvancedLocation simply using the primary key IncidentID\n",
    "\n",
    "But what if we associate AdvancedLocation to Address by linking it to AddressID -- check to see if there's lat/long variability that causes extra entries to semi-redundantly occur for a given address.\n",
    "\n",
    "<b>also</b> what if there are multiple \"things\" in a building, like 3 restaurants in a hotel... Actually, wait, that's fine; they would differentiate on the contact number"
   ]
  },
  {
   "cell_type": "code",
   "execution_count": 8,
   "metadata": {},
   "outputs": [
    {
     "data": {
      "text/plain": [
       "STREET\n",
       "BROADWAY             14393\n",
       "3 AVENUE              8712\n",
       "2 AVENUE              6859\n",
       "5 AVENUE              6790\n",
       "8 AVENUE              5672\n",
       "                     ...  \n",
       "NORTH    1 STREET        1\n",
       "NOLL STREET              1\n",
       "FAILE STREET             1\n",
       "WEST  103 STREET         1\n",
       "NASSAU RD                1\n",
       "Length: 2401, dtype: int64"
      ]
     },
     "execution_count": 8,
     "metadata": {},
     "output_type": "execute_result"
    }
   ],
   "source": [
    "df.value_counts('STREET')"
   ]
  },
  {
   "cell_type": "code",
   "execution_count": 21,
   "metadata": {},
   "outputs": [
    {
     "data": {
      "text/plain": [
       "PHONE\n",
       "7185958100    274\n",
       "7182246030    181\n",
       "__________    181\n",
       "2126159700    173\n",
       "9175665727    160\n",
       "             ... \n",
       "9179523272      1\n",
       "9087649740      1\n",
       "6465906053      1\n",
       "3476277253      1\n",
       "6469520138      1\n",
       "Length: 27067, dtype: int64"
      ]
     },
     "execution_count": 21,
     "metadata": {},
     "output_type": "execute_result"
    }
   ],
   "source": [
    "df.value_counts('PHONE')"
   ]
  },
  {
   "cell_type": "code",
   "execution_count": null,
   "metadata": {},
   "outputs": [],
   "source": []
  }
 ],
 "metadata": {
  "kernelspec": {
   "display_name": "Python 3",
   "language": "python",
   "name": "python3"
  },
  "language_info": {
   "codemirror_mode": {
    "name": "ipython",
    "version": 3
   },
   "file_extension": ".py",
   "mimetype": "text/x-python",
   "name": "python",
   "nbconvert_exporter": "python",
   "pygments_lexer": "ipython3",
   "version": "3.8.5"
  }
 },
 "nbformat": 4,
 "nbformat_minor": 4
}
