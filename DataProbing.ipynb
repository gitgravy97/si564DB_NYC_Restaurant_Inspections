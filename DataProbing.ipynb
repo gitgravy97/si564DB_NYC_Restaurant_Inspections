{
 "cells": [
  {
   "cell_type": "markdown",
   "metadata": {},
   "source": [
    "# Exploring Database // Probing for Re-Draft Potential"
   ]
  },
  {
   "cell_type": "code",
   "execution_count": 1,
   "metadata": {},
   "outputs": [],
   "source": [
    "import pandas as pd"
   ]
  },
  {
   "cell_type": "code",
   "execution_count": 2,
   "metadata": {},
   "outputs": [],
   "source": [
    "df = pd.read_csv('data/DOHMH_NYC_Restaurant_Inspection_Results.csv')"
   ]
  },
  {
   "cell_type": "markdown",
   "metadata": {},
   "source": [
    "<h2>Thought 1 :: </h2> Need to verify whether or not DBA to Phone are exact. In the case of franchising results in differential phone number for owner, would need to migrate phone number into table other than just the Business table."
   ]
  },
  {
   "cell_type": "code",
   "execution_count": 3,
   "metadata": {},
   "outputs": [
    {
     "data": {
      "text/plain": [
       "[array(['2127772042', '2127790185', '2027596788'], dtype=object),\n",
       " array(['7183842152', '7186872946'], dtype=object),\n",
       " array(['2122604416', '2126272808', '6464227022', '6468611281',\n",
       "        '6467073424', '2126649608', '6468632522', '9174727874',\n",
       "        '2122604414', '2122131755', '9146564534'], dtype=object),\n",
       " array(['212_239111', '9177461577', '7187970336', '2122391117',\n",
       "        '9173749161', '2127770600', '9175878888'], dtype=object),\n",
       " array(['9292789914', '7187777133'], dtype=object)]"
      ]
     },
     "execution_count": 3,
     "metadata": {},
     "output_type": "execute_result"
    }
   ],
   "source": [
    "[i for i in df.groupby('DBA').PHONE.unique() if len(i)>1][:5]"
   ]
  },
  {
   "cell_type": "code",
   "execution_count": 4,
   "metadata": {},
   "outputs": [],
   "source": [
    "#df[df.PHONE=='2127772042']"
   ]
  },
  {
   "cell_type": "markdown",
   "metadata": {},
   "source": [
    "Alright, yeah, we need to move that.\n",
    "***"
   ]
  },
  {
   "cell_type": "markdown",
   "metadata": {},
   "source": [
    "<h2>Thought 2 :: </h2> Check into the different fields that should maybe be pulled out to achieve more atomic structure. See how much variation and length there is to these string fields."
   ]
  },
  {
   "cell_type": "markdown",
   "metadata": {},
   "source": [
    "***\n",
    "<h3>Violation Description</h3>\n",
    "Regulatory // Legal Text re: specified code broken"
   ]
  },
  {
   "cell_type": "code",
   "execution_count": 78,
   "metadata": {},
   "outputs": [
    {
     "data": {
      "text/plain": [
       "Non-food contact surface improperly constructed. Unacceptable material used. Non-food contact surface or equipment improperly maintained and/or not properly sealed, raised, spaced or movable to allow accessibility for cleaning on all sides, above and underneath the unit.    56325\n",
       "Facility not vermin proof. Harborage or conditions conducive to attracting vermin to the premises and/or allowing vermin to exist.                                                                                                                                                 43636\n",
       "Evidence of mice or live mice present in facility's food and/or non-food areas.                                                                                                                                                                                                    29423\n",
       "Food contact surface not properly washed, rinsed and sanitized after each use and following any activity when contamination may have occurred.                                                                                                                                     26966\n",
       "Food not protected from potential source of contamination during storage, preparation, transportation, display or service.                                                                                                                                                         23714\n",
       "                                                                                                                                                                                                                                                                                   ...  \n",
       "Original label for tobacco products sold or offered for sale.                                                                                                                                                                                                                          2\n",
       "Non-food contact surface improperly constructed. Unacceptable material used. Non-food contact surface or equipment improperly maintained.                                                                                                                                              1\n",
       "Food item spoiled, adulterated, contaminated or cross-contaminated.                                                                                                                                                                                                                    1\n",
       "Unprotected food re-served.                                                                                                                                                                                                                                                            1\n",
       "Reduced oxygen packaged (ROP) foods not cooled by an approved method whereby the internal food temperature is reduced to 38º F within two hours of cooking and if necessary further cooled to a temperature of 34º F within six hours of reaching 38º F.                               1\n",
       "Name: VIOLATION DESCRIPTION, Length: 92, dtype: int64"
      ]
     },
     "execution_count": 78,
     "metadata": {},
     "output_type": "execute_result"
    }
   ],
   "source": [
    "df['VIOLATION DESCRIPTION'].value_counts()"
   ]
  },
  {
   "cell_type": "code",
   "execution_count": 71,
   "metadata": {},
   "outputs": [
    {
     "data": {
      "text/html": [
       "<div>\n",
       "<style scoped>\n",
       "    .dataframe tbody tr th:only-of-type {\n",
       "        vertical-align: middle;\n",
       "    }\n",
       "\n",
       "    .dataframe tbody tr th {\n",
       "        vertical-align: top;\n",
       "    }\n",
       "\n",
       "    .dataframe thead th {\n",
       "        text-align: right;\n",
       "    }\n",
       "</style>\n",
       "<table border=\"1\" class=\"dataframe\">\n",
       "  <thead>\n",
       "    <tr style=\"text-align: right;\">\n",
       "      <th></th>\n",
       "      <th>ViolationDesc</th>\n",
       "      <th>ViolationLen</th>\n",
       "    </tr>\n",
       "  </thead>\n",
       "  <tbody>\n",
       "    <tr>\n",
       "      <th>19</th>\n",
       "      <td>Caloric content not posted on menus, menu boar...</td>\n",
       "      <td>360</td>\n",
       "    </tr>\n",
       "    <tr>\n",
       "      <th>14</th>\n",
       "      <td>Filth flies or food/refuse/sewage-associated (...</td>\n",
       "      <td>289</td>\n",
       "    </tr>\n",
       "    <tr>\n",
       "      <th>10</th>\n",
       "      <td>Non-food contact surface improperly constructe...</td>\n",
       "      <td>271</td>\n",
       "    </tr>\n",
       "  </tbody>\n",
       "</table>\n",
       "</div>"
      ],
      "text/plain": [
       "                                        ViolationDesc  ViolationLen\n",
       "19  Caloric content not posted on menus, menu boar...           360\n",
       "14  Filth flies or food/refuse/sewage-associated (...           289\n",
       "10  Non-food contact surface improperly constructe...           271"
      ]
     },
     "execution_count": 71,
     "metadata": {},
     "output_type": "execute_result"
    }
   ],
   "source": [
    "#### just use len(str(x)) because np.nan is techincally a float\n",
    "temp = pd.DataFrame(df['VIOLATION DESCRIPTION'].unique(), columns=[\"ViolationDesc\"])\n",
    "temp['ViolationLen'] = temp['ViolationDesc'].apply(lambda x: len(str(x)))\n",
    "temp = temp.sort_values(\"ViolationLen\", ascending=False)\n",
    "temp.head(3)"
   ]
  },
  {
   "cell_type": "code",
   "execution_count": 73,
   "metadata": {},
   "outputs": [
    {
     "name": "stdout",
     "output_type": "stream",
     "text": [
      "Violation Description:\n",
      "93 unique values\n",
      "Longest is 360 characters\n",
      "\n",
      "Longest content:\n",
      "\tCaloric content not posted on menus, menu boards or food tags, in a food service establishment that is 1 of 15 or more outlets operating the same type of business nationally under common ownership or control, or as a franchise or doing business under the same name, for each menu item that is served in portions, the size and content of which are standardized.\n"
     ]
    }
   ],
   "source": [
    "print(\"Violation Description:\")\n",
    "print(f\"{len(df['VIOLATION DESCRIPTION'].unique())} unique values\")\n",
    "print(f\"Longest is {temp.ViolationLen.iloc[0]} characters\")\n",
    "print(f\"\\nLongest content:\\n\\t{temp.ViolationDesc.iloc[0]}\")"
   ]
  },
  {
   "cell_type": "markdown",
   "metadata": {},
   "source": [
    "***\n",
    "<h3>\"Action\"</h3>\n",
    "Outcome of a given inspection"
   ]
  },
  {
   "cell_type": "code",
   "execution_count": 77,
   "metadata": {},
   "outputs": [
    {
     "data": {
      "text/plain": [
       "Violations were cited in the following area(s).                                                                                        367514\n",
       "Establishment Closed by DOHMH.  Violations were cited in the following area(s) and those requiring immediate action were addressed.     14736\n",
       "Establishment re-opened by DOHMH                                                                                                         4300\n",
       "No violations were recorded at the time of this inspection.                                                                              4141\n",
       "Establishment re-closed by DOHMH                                                                                                         1106\n",
       "Name: ACTION, dtype: int64"
      ]
     },
     "execution_count": 77,
     "metadata": {},
     "output_type": "execute_result"
    }
   ],
   "source": [
    "df['ACTION'].value_counts()"
   ]
  },
  {
   "cell_type": "code",
   "execution_count": 75,
   "metadata": {},
   "outputs": [
    {
     "data": {
      "text/html": [
       "<div>\n",
       "<style scoped>\n",
       "    .dataframe tbody tr th:only-of-type {\n",
       "        vertical-align: middle;\n",
       "    }\n",
       "\n",
       "    .dataframe tbody tr th {\n",
       "        vertical-align: top;\n",
       "    }\n",
       "\n",
       "    .dataframe thead th {\n",
       "        text-align: right;\n",
       "    }\n",
       "</style>\n",
       "<table border=\"1\" class=\"dataframe\">\n",
       "  <thead>\n",
       "    <tr style=\"text-align: right;\">\n",
       "      <th></th>\n",
       "      <th>OutcomeDesc</th>\n",
       "      <th>OutcomeLen</th>\n",
       "    </tr>\n",
       "  </thead>\n",
       "  <tbody>\n",
       "    <tr>\n",
       "      <th>2</th>\n",
       "      <td>Establishment Closed by DOHMH.  Violations wer...</td>\n",
       "      <td>131</td>\n",
       "    </tr>\n",
       "    <tr>\n",
       "      <th>4</th>\n",
       "      <td>No violations were recorded at the time of thi...</td>\n",
       "      <td>59</td>\n",
       "    </tr>\n",
       "    <tr>\n",
       "      <th>0</th>\n",
       "      <td>Violations were cited in the following area(s).</td>\n",
       "      <td>47</td>\n",
       "    </tr>\n",
       "    <tr>\n",
       "      <th>1</th>\n",
       "      <td>Establishment re-opened by DOHMH</td>\n",
       "      <td>32</td>\n",
       "    </tr>\n",
       "    <tr>\n",
       "      <th>3</th>\n",
       "      <td>Establishment re-closed by DOHMH</td>\n",
       "      <td>32</td>\n",
       "    </tr>\n",
       "    <tr>\n",
       "      <th>5</th>\n",
       "      <td>NaN</td>\n",
       "      <td>3</td>\n",
       "    </tr>\n",
       "  </tbody>\n",
       "</table>\n",
       "</div>"
      ],
      "text/plain": [
       "                                         OutcomeDesc  OutcomeLen\n",
       "2  Establishment Closed by DOHMH.  Violations wer...         131\n",
       "4  No violations were recorded at the time of thi...          59\n",
       "0    Violations were cited in the following area(s).          47\n",
       "1                   Establishment re-opened by DOHMH          32\n",
       "3                   Establishment re-closed by DOHMH          32\n",
       "5                                                NaN           3"
      ]
     },
     "execution_count": 75,
     "metadata": {},
     "output_type": "execute_result"
    }
   ],
   "source": [
    "#### just use len(str(x)) because np.nan is techincally a float\n",
    "temp = pd.DataFrame(df['ACTION'].unique(), columns=[\"OutcomeDesc\"])\n",
    "temp['OutcomeLen'] = temp['OutcomeDesc'].apply(lambda x: len(str(x)))\n",
    "temp = temp.sort_values(\"OutcomeLen\", ascending=False)\n",
    "temp"
   ]
  },
  {
   "cell_type": "code",
   "execution_count": 76,
   "metadata": {},
   "outputs": [
    {
     "name": "stdout",
     "output_type": "stream",
     "text": [
      "Outcome Description:\n",
      "6 unique values\n",
      "Longest is 131 characters\n",
      "\n",
      "Longest content:\n",
      "\tEstablishment Closed by DOHMH.  Violations were cited in the following area(s) and those requiring immediate action were addressed.\n"
     ]
    }
   ],
   "source": [
    "print(\"Outcome Description:\")\n",
    "print(f\"{len(temp['OutcomeDesc'].unique())} unique values\")\n",
    "print(f\"Longest is {temp.OutcomeLen.iloc[0]} characters\")\n",
    "print(f\"\\nLongest content:\\n\\t{temp.OutcomeDesc.iloc[0]}\")"
   ]
  },
  {
   "cell_type": "markdown",
   "metadata": {},
   "source": [
    "***\n",
    "<h3>Inspection Type</h3>"
   ]
  },
  {
   "cell_type": "code",
   "execution_count": 79,
   "metadata": {},
   "outputs": [
    {
     "data": {
      "text/plain": [
       "Cycle Inspection / Initial Inspection                          230317\n",
       "Cycle Inspection / Re-inspection                                94227\n",
       "Pre-permit (Operational) / Initial Inspection                   27949\n",
       "Pre-permit (Operational) / Re-inspection                        12040\n",
       "Administrative Miscellaneous / Initial Inspection                7344\n",
       "Cycle Inspection / Reopening Inspection                          4337\n",
       "Pre-permit (Non-operational) / Initial Inspection                3281\n",
       "Smoke-Free Air Act / Initial Inspection                          1947\n",
       "Administrative Miscellaneous / Re-inspection                     1946\n",
       "Trans Fat / Initial Inspection                                   1505\n",
       "Pre-permit (Operational) / Compliance Inspection                 1251\n",
       "Calorie Posting / Initial Inspection                             1109\n",
       "Inter-Agency Task Force / Initial Inspection                     1067\n",
       "Pre-permit (Operational) / Reopening Inspection                  1053\n",
       "Cycle Inspection / Compliance Inspection                          709\n",
       "Smoke-Free Air Act / Re-inspection                                445\n",
       "Trans Fat / Re-inspection                                         323\n",
       "Pre-permit (Non-operational) / Re-inspection                      292\n",
       "Calorie Posting / Re-inspection                                   216\n",
       "Administrative Miscellaneous / Compliance Inspection              113\n",
       "Pre-permit (Operational) / Second Compliance Inspection            97\n",
       "Administrative Miscellaneous / Reopening Inspection                90\n",
       "Smoke-Free Air Act / Limited Inspection                            31\n",
       "Pre-permit (Non-operational) / Compliance Inspection               29\n",
       "Trans Fat / Compliance Inspection                                  23\n",
       "Calorie Posting / Compliance Inspection                            15\n",
       "Administrative Miscellaneous / Second Compliance Inspection        14\n",
       "Cycle Inspection / Second Compliance Inspection                    14\n",
       "Smoke-Free Air Act / Compliance Inspection                          9\n",
       "Trans Fat / Second Compliance Inspection                            3\n",
       "Pre-permit (Non-operational) / Second Compliance Inspection         1\n",
       "Name: INSPECTION TYPE, dtype: int64"
      ]
     },
     "execution_count": 79,
     "metadata": {},
     "output_type": "execute_result"
    }
   ],
   "source": [
    "df[\"INSPECTION TYPE\"].value_counts()"
   ]
  },
  {
   "cell_type": "code",
   "execution_count": 81,
   "metadata": {},
   "outputs": [
    {
     "data": {
      "text/html": [
       "<div>\n",
       "<style scoped>\n",
       "    .dataframe tbody tr th:only-of-type {\n",
       "        vertical-align: middle;\n",
       "    }\n",
       "\n",
       "    .dataframe tbody tr th {\n",
       "        vertical-align: top;\n",
       "    }\n",
       "\n",
       "    .dataframe thead th {\n",
       "        text-align: right;\n",
       "    }\n",
       "</style>\n",
       "<table border=\"1\" class=\"dataframe\">\n",
       "  <thead>\n",
       "    <tr style=\"text-align: right;\">\n",
       "      <th></th>\n",
       "      <th>InspectionDesc</th>\n",
       "      <th>InspectionLen</th>\n",
       "    </tr>\n",
       "  </thead>\n",
       "  <tbody>\n",
       "    <tr>\n",
       "      <th>31</th>\n",
       "      <td>Pre-permit (Non-operational) / Second Complian...</td>\n",
       "      <td>59</td>\n",
       "    </tr>\n",
       "    <tr>\n",
       "      <th>28</th>\n",
       "      <td>Administrative Miscellaneous / Second Complian...</td>\n",
       "      <td>59</td>\n",
       "    </tr>\n",
       "    <tr>\n",
       "      <th>12</th>\n",
       "      <td>Pre-permit (Operational) / Second Compliance I...</td>\n",
       "      <td>55</td>\n",
       "    </tr>\n",
       "  </tbody>\n",
       "</table>\n",
       "</div>"
      ],
      "text/plain": [
       "                                       InspectionDesc  InspectionLen\n",
       "31  Pre-permit (Non-operational) / Second Complian...             59\n",
       "28  Administrative Miscellaneous / Second Complian...             59\n",
       "12  Pre-permit (Operational) / Second Compliance I...             55"
      ]
     },
     "execution_count": 81,
     "metadata": {},
     "output_type": "execute_result"
    }
   ],
   "source": [
    "#### just use len(str(x)) because np.nan is techincally a float\n",
    "temp = pd.DataFrame(df['INSPECTION TYPE'].unique(), columns=[\"InspectionDesc\"])\n",
    "temp['InspectionLen'] = temp['InspectionDesc'].apply(lambda x: len(str(x)))\n",
    "temp = temp.sort_values(\"InspectionLen\", ascending=False)\n",
    "temp.head(3)"
   ]
  },
  {
   "cell_type": "code",
   "execution_count": 82,
   "metadata": {},
   "outputs": [
    {
     "name": "stdout",
     "output_type": "stream",
     "text": [
      "Inspection Description:\n",
      "32 unique values\n",
      "Longest is 59 characters\n",
      "\n",
      "Longest content:\n",
      "\tPre-permit (Non-operational) / Second Compliance Inspection\n"
     ]
    }
   ],
   "source": [
    "print(\"Inspection Description:\")\n",
    "print(f\"{len(temp['InspectionDesc'].unique())} unique values\")\n",
    "print(f\"Longest is {temp.InspectionLen.iloc[0]} characters\")\n",
    "print(f\"\\nLongest content:\\n\\t{temp.InspectionDesc.iloc[0]}\")"
   ]
  },
  {
   "cell_type": "markdown",
   "metadata": {},
   "source": [
    "***\n",
    "<h3>Cuisine Description</h3>"
   ]
  },
  {
   "cell_type": "code",
   "execution_count": 7,
   "metadata": {},
   "outputs": [
    {
     "data": {
      "text/plain": [
       "American                                      76261\n",
       "Chinese                                       41329\n",
       "Pizza                                         25338\n",
       "Café/Coffee/Tea                               19586\n",
       "Latin American (Central and South America)    17488\n",
       "                                              ...  \n",
       "Fruits/Vegetables                                54\n",
       "Czech                                            43\n",
       "Nuts/Confectionary                               43\n",
       "Chilean                                          32\n",
       "Basque                                            9\n",
       "Name: CUISINE DESCRIPTION, Length: 82, dtype: int64"
      ]
     },
     "execution_count": 7,
     "metadata": {},
     "output_type": "execute_result"
    }
   ],
   "source": [
    "thing[\"CUISINE DESCRIPTION\"].value_counts()"
   ]
  },
  {
   "cell_type": "code",
   "execution_count": 83,
   "metadata": {},
   "outputs": [
    {
     "data": {
      "text/html": [
       "<div>\n",
       "<style scoped>\n",
       "    .dataframe tbody tr th:only-of-type {\n",
       "        vertical-align: middle;\n",
       "    }\n",
       "\n",
       "    .dataframe tbody tr th {\n",
       "        vertical-align: top;\n",
       "    }\n",
       "\n",
       "    .dataframe thead th {\n",
       "        text-align: right;\n",
       "    }\n",
       "</style>\n",
       "<table border=\"1\" class=\"dataframe\">\n",
       "  <thead>\n",
       "    <tr style=\"text-align: right;\">\n",
       "      <th></th>\n",
       "      <th>FoodDesc</th>\n",
       "      <th>FoodLen</th>\n",
       "    </tr>\n",
       "  </thead>\n",
       "  <tbody>\n",
       "    <tr>\n",
       "      <th>13</th>\n",
       "      <td>Bottled beverages, including water, sodas, jui...</td>\n",
       "      <td>55</td>\n",
       "    </tr>\n",
       "    <tr>\n",
       "      <th>24</th>\n",
       "      <td>Latin American (Central and South America)</td>\n",
       "      <td>42</td>\n",
       "    </tr>\n",
       "    <tr>\n",
       "      <th>15</th>\n",
       "      <td>Caribbean (Inc. Cuban, Puerto Rican)</td>\n",
       "      <td>36</td>\n",
       "    </tr>\n",
       "  </tbody>\n",
       "</table>\n",
       "</div>"
      ],
      "text/plain": [
       "                                             FoodDesc  FoodLen\n",
       "13  Bottled beverages, including water, sodas, jui...       55\n",
       "24         Latin American (Central and South America)       42\n",
       "15               Caribbean (Inc. Cuban, Puerto Rican)       36"
      ]
     },
     "execution_count": 83,
     "metadata": {},
     "output_type": "execute_result"
    }
   ],
   "source": [
    "#### just use len(str(x)) because np.nan is techincally a float\n",
    "temp = pd.DataFrame(df[\"CUISINE DESCRIPTION\"].unique(), columns=[\"FoodDesc\"])\n",
    "temp['FoodLen'] = temp['FoodDesc'].apply(lambda x: len(str(x)))\n",
    "temp = temp.sort_values(\"FoodLen\", ascending=False)\n",
    "temp.head(3)"
   ]
  },
  {
   "cell_type": "code",
   "execution_count": 84,
   "metadata": {},
   "outputs": [
    {
     "name": "stdout",
     "output_type": "stream",
     "text": [
      "Food Description:\n",
      "82 unique values\n",
      "Longest is 55 characters\n",
      "\n",
      "Longest content:\n",
      "\tBottled beverages, including water, sodas, juices, etc.\n"
     ]
    }
   ],
   "source": [
    "print(\"Food Description:\")\n",
    "print(f\"{len(temp['FoodDesc'].unique())} unique values\")\n",
    "print(f\"Longest is {temp.FoodLen.iloc[0]} characters\")\n",
    "print(f\"\\nLongest content:\\n\\t{temp.FoodDesc.iloc[0]}\")"
   ]
  },
  {
   "cell_type": "markdown",
   "metadata": {},
   "source": [
    "***\n",
    "<h3>Making Sample File</h3>"
   ]
  },
  {
   "cell_type": "code",
   "execution_count": 6,
   "metadata": {},
   "outputs": [
    {
     "data": {
      "text/html": [
       "<div>\n",
       "<style scoped>\n",
       "    .dataframe tbody tr th:only-of-type {\n",
       "        vertical-align: middle;\n",
       "    }\n",
       "\n",
       "    .dataframe tbody tr th {\n",
       "        vertical-align: top;\n",
       "    }\n",
       "\n",
       "    .dataframe thead th {\n",
       "        text-align: right;\n",
       "    }\n",
       "</style>\n",
       "<table border=\"1\" class=\"dataframe\">\n",
       "  <thead>\n",
       "    <tr style=\"text-align: right;\">\n",
       "      <th></th>\n",
       "      <th>DBA</th>\n",
       "      <th>BORO</th>\n",
       "      <th>BUILDING</th>\n",
       "      <th>STREET</th>\n",
       "      <th>ZIPCODE</th>\n",
       "      <th>PHONE</th>\n",
       "      <th>CUISINE DESCRIPTION</th>\n",
       "      <th>INSPECTION DATE</th>\n",
       "      <th>ACTION</th>\n",
       "      <th>VIOLATION CODE</th>\n",
       "      <th>...</th>\n",
       "      <th>RECORD DATE</th>\n",
       "      <th>INSPECTION TYPE</th>\n",
       "      <th>Latitude</th>\n",
       "      <th>Longitude</th>\n",
       "      <th>Community Board</th>\n",
       "      <th>Council District</th>\n",
       "      <th>Census Tract</th>\n",
       "      <th>BIN</th>\n",
       "      <th>BBL</th>\n",
       "      <th>NTA</th>\n",
       "    </tr>\n",
       "    <tr>\n",
       "      <th>CAMIS</th>\n",
       "      <th></th>\n",
       "      <th></th>\n",
       "      <th></th>\n",
       "      <th></th>\n",
       "      <th></th>\n",
       "      <th></th>\n",
       "      <th></th>\n",
       "      <th></th>\n",
       "      <th></th>\n",
       "      <th></th>\n",
       "      <th></th>\n",
       "      <th></th>\n",
       "      <th></th>\n",
       "      <th></th>\n",
       "      <th></th>\n",
       "      <th></th>\n",
       "      <th></th>\n",
       "      <th></th>\n",
       "      <th></th>\n",
       "      <th></th>\n",
       "      <th></th>\n",
       "    </tr>\n",
       "  </thead>\n",
       "  <tbody>\n",
       "    <tr>\n",
       "      <th>41592595</th>\n",
       "      <td>CAFE REGULAR</td>\n",
       "      <td>Brooklyn</td>\n",
       "      <td>158</td>\n",
       "      <td>BERKELEY PLACE</td>\n",
       "      <td>11217.0</td>\n",
       "      <td>7187830673</td>\n",
       "      <td>Café/Coffee/Tea</td>\n",
       "      <td>02/09/2017</td>\n",
       "      <td>Violations were cited in the following area(s).</td>\n",
       "      <td>10J</td>\n",
       "      <td>...</td>\n",
       "      <td>03/12/2021</td>\n",
       "      <td>Cycle Inspection / Initial Inspection</td>\n",
       "      <td>40.675311</td>\n",
       "      <td>-73.975626</td>\n",
       "      <td>306.0</td>\n",
       "      <td>39.0</td>\n",
       "      <td>15900.0</td>\n",
       "      <td>3019869.0</td>\n",
       "      <td>3.009540e+09</td>\n",
       "      <td>BK37</td>\n",
       "    </tr>\n",
       "    <tr>\n",
       "      <th>50041609</th>\n",
       "      <td>NEW VEGETARIAN PALATE</td>\n",
       "      <td>Brooklyn</td>\n",
       "      <td>603</td>\n",
       "      <td>WASHINGTON AVENUE</td>\n",
       "      <td>11238.0</td>\n",
       "      <td>7186238809</td>\n",
       "      <td>Vegetarian</td>\n",
       "      <td>01/10/2020</td>\n",
       "      <td>Violations were cited in the following area(s).</td>\n",
       "      <td>02G</td>\n",
       "      <td>...</td>\n",
       "      <td>03/12/2021</td>\n",
       "      <td>Cycle Inspection / Initial Inspection</td>\n",
       "      <td>40.679664</td>\n",
       "      <td>-73.964112</td>\n",
       "      <td>308.0</td>\n",
       "      <td>35.0</td>\n",
       "      <td>20300.0</td>\n",
       "      <td>3027687.0</td>\n",
       "      <td>3.011320e+09</td>\n",
       "      <td>BK64</td>\n",
       "    </tr>\n",
       "    <tr>\n",
       "      <th>41229180</th>\n",
       "      <td>FRANCESCO PIZZERIA</td>\n",
       "      <td>Manhattan</td>\n",
       "      <td>186</td>\n",
       "      <td>COLUMBUS AVENUE</td>\n",
       "      <td>10023.0</td>\n",
       "      <td>2127210066</td>\n",
       "      <td>Pizza</td>\n",
       "      <td>09/28/2018</td>\n",
       "      <td>Violations were cited in the following area(s).</td>\n",
       "      <td>10F</td>\n",
       "      <td>...</td>\n",
       "      <td>03/12/2021</td>\n",
       "      <td>Cycle Inspection / Initial Inspection</td>\n",
       "      <td>40.775090</td>\n",
       "      <td>-73.980496</td>\n",
       "      <td>107.0</td>\n",
       "      <td>6.0</td>\n",
       "      <td>15300.0</td>\n",
       "      <td>1028941.0</td>\n",
       "      <td>1.011400e+09</td>\n",
       "      <td>MN14</td>\n",
       "    </tr>\n",
       "    <tr>\n",
       "      <th>41594932</th>\n",
       "      <td>SUBWAY</td>\n",
       "      <td>Manhattan</td>\n",
       "      <td>223</td>\n",
       "      <td>AVENUE B</td>\n",
       "      <td>10009.0</td>\n",
       "      <td>2122604206</td>\n",
       "      <td>Sandwiches</td>\n",
       "      <td>01/04/2018</td>\n",
       "      <td>Violations were cited in the following area(s).</td>\n",
       "      <td>04A</td>\n",
       "      <td>...</td>\n",
       "      <td>03/12/2021</td>\n",
       "      <td>Cycle Inspection / Initial Inspection</td>\n",
       "      <td>40.729016</td>\n",
       "      <td>-73.978316</td>\n",
       "      <td>103.0</td>\n",
       "      <td>2.0</td>\n",
       "      <td>2800.0</td>\n",
       "      <td>1004932.0</td>\n",
       "      <td>1.003960e+09</td>\n",
       "      <td>MN28</td>\n",
       "    </tr>\n",
       "    <tr>\n",
       "      <th>50018552</th>\n",
       "      <td>ORCHID DYNASTY RESTAURANT</td>\n",
       "      <td>Brooklyn</td>\n",
       "      <td>7706</td>\n",
       "      <td>NEW UTRECHT AVENUE</td>\n",
       "      <td>11214.0</td>\n",
       "      <td>7188372017</td>\n",
       "      <td>Chinese</td>\n",
       "      <td>05/10/2017</td>\n",
       "      <td>Violations were cited in the following area(s).</td>\n",
       "      <td>08A</td>\n",
       "      <td>...</td>\n",
       "      <td>03/12/2021</td>\n",
       "      <td>Cycle Inspection / Re-inspection</td>\n",
       "      <td>40.614015</td>\n",
       "      <td>-74.000450</td>\n",
       "      <td>311.0</td>\n",
       "      <td>43.0</td>\n",
       "      <td>18200.0</td>\n",
       "      <td>3161388.0</td>\n",
       "      <td>3.062470e+09</td>\n",
       "      <td>BK28</td>\n",
       "    </tr>\n",
       "    <tr>\n",
       "      <th>...</th>\n",
       "      <td>...</td>\n",
       "      <td>...</td>\n",
       "      <td>...</td>\n",
       "      <td>...</td>\n",
       "      <td>...</td>\n",
       "      <td>...</td>\n",
       "      <td>...</td>\n",
       "      <td>...</td>\n",
       "      <td>...</td>\n",
       "      <td>...</td>\n",
       "      <td>...</td>\n",
       "      <td>...</td>\n",
       "      <td>...</td>\n",
       "      <td>...</td>\n",
       "      <td>...</td>\n",
       "      <td>...</td>\n",
       "      <td>...</td>\n",
       "      <td>...</td>\n",
       "      <td>...</td>\n",
       "      <td>...</td>\n",
       "      <td>...</td>\n",
       "    </tr>\n",
       "    <tr>\n",
       "      <th>50057443</th>\n",
       "      <td>VERITABLE</td>\n",
       "      <td>Manhattan</td>\n",
       "      <td>1201</td>\n",
       "      <td>2 AVENUE</td>\n",
       "      <td>10065.0</td>\n",
       "      <td>2127530600</td>\n",
       "      <td>American</td>\n",
       "      <td>09/10/2018</td>\n",
       "      <td>Violations were cited in the following area(s).</td>\n",
       "      <td>10F</td>\n",
       "      <td>...</td>\n",
       "      <td>03/12/2021</td>\n",
       "      <td>Cycle Inspection / Re-inspection</td>\n",
       "      <td>40.763278</td>\n",
       "      <td>-73.962403</td>\n",
       "      <td>108.0</td>\n",
       "      <td>4.0</td>\n",
       "      <td>11000.0</td>\n",
       "      <td>1043864.0</td>\n",
       "      <td>1.014180e+09</td>\n",
       "      <td>MN31</td>\n",
       "    </tr>\n",
       "    <tr>\n",
       "      <th>50086591</th>\n",
       "      <td>NEW XING XING RESTAURANT</td>\n",
       "      <td>Brooklyn</td>\n",
       "      <td>4917</td>\n",
       "      <td>8 AVENUE</td>\n",
       "      <td>11220.0</td>\n",
       "      <td>7188518089</td>\n",
       "      <td>Chinese</td>\n",
       "      <td>08/07/2019</td>\n",
       "      <td>Establishment Closed by DOHMH.  Violations wer...</td>\n",
       "      <td>04H</td>\n",
       "      <td>...</td>\n",
       "      <td>03/12/2021</td>\n",
       "      <td>Cycle Inspection / Initial Inspection</td>\n",
       "      <td>40.641515</td>\n",
       "      <td>-74.003272</td>\n",
       "      <td>312.0</td>\n",
       "      <td>38.0</td>\n",
       "      <td>10800.0</td>\n",
       "      <td>3137522.0</td>\n",
       "      <td>3.056370e+09</td>\n",
       "      <td>BK34</td>\n",
       "    </tr>\n",
       "    <tr>\n",
       "      <th>50048487</th>\n",
       "      <td>EASTFIELD'S</td>\n",
       "      <td>Manhattan</td>\n",
       "      <td>1479</td>\n",
       "      <td>YORK AVENUE</td>\n",
       "      <td>10075.0</td>\n",
       "      <td>2129666032</td>\n",
       "      <td>American</td>\n",
       "      <td>08/30/2016</td>\n",
       "      <td>Establishment Closed by DOHMH.  Violations wer...</td>\n",
       "      <td>06C</td>\n",
       "      <td>...</td>\n",
       "      <td>03/12/2021</td>\n",
       "      <td>Pre-permit (Operational) / Re-inspection</td>\n",
       "      <td>40.770967</td>\n",
       "      <td>-73.950748</td>\n",
       "      <td>108.0</td>\n",
       "      <td>5.0</td>\n",
       "      <td>13200.0</td>\n",
       "      <td>1046031.0</td>\n",
       "      <td>1.014730e+09</td>\n",
       "      <td>MN31</td>\n",
       "    </tr>\n",
       "    <tr>\n",
       "      <th>50093719</th>\n",
       "      <td>WU &amp; NUSSBAUM</td>\n",
       "      <td>Manhattan</td>\n",
       "      <td>2897</td>\n",
       "      <td>BROADWAY</td>\n",
       "      <td>10025.0</td>\n",
       "      <td>2123624165</td>\n",
       "      <td>Other</td>\n",
       "      <td>02/26/2020</td>\n",
       "      <td>Violations were cited in the following area(s).</td>\n",
       "      <td>08A</td>\n",
       "      <td>...</td>\n",
       "      <td>03/12/2021</td>\n",
       "      <td>Pre-permit (Operational) / Initial Inspection</td>\n",
       "      <td>40.805987</td>\n",
       "      <td>-73.965384</td>\n",
       "      <td>109.0</td>\n",
       "      <td>7.0</td>\n",
       "      <td>19900.0</td>\n",
       "      <td>1057337.0</td>\n",
       "      <td>1.018950e+09</td>\n",
       "      <td>MN09</td>\n",
       "    </tr>\n",
       "    <tr>\n",
       "      <th>41611450</th>\n",
       "      <td>ANDAMAN THAI BISTRO</td>\n",
       "      <td>Manhattan</td>\n",
       "      <td>1843</td>\n",
       "      <td>1 AVENUE</td>\n",
       "      <td>10128.0</td>\n",
       "      <td>2127225671</td>\n",
       "      <td>Thai</td>\n",
       "      <td>11/16/2017</td>\n",
       "      <td>Violations were cited in the following area(s).</td>\n",
       "      <td>02B</td>\n",
       "      <td>...</td>\n",
       "      <td>03/12/2021</td>\n",
       "      <td>Cycle Inspection / Re-inspection</td>\n",
       "      <td>40.782764</td>\n",
       "      <td>-73.945077</td>\n",
       "      <td>108.0</td>\n",
       "      <td>5.0</td>\n",
       "      <td>15601.0</td>\n",
       "      <td>1078674.0</td>\n",
       "      <td>1.015580e+09</td>\n",
       "      <td>MN32</td>\n",
       "    </tr>\n",
       "  </tbody>\n",
       "</table>\n",
       "<p>200000 rows × 25 columns</p>\n",
       "</div>"
      ],
      "text/plain": [
       "                                DBA       BORO BUILDING              STREET  \\\n",
       "CAMIS                                                                         \n",
       "41592595               CAFE REGULAR   Brooklyn      158      BERKELEY PLACE   \n",
       "50041609      NEW VEGETARIAN PALATE   Brooklyn      603   WASHINGTON AVENUE   \n",
       "41229180         FRANCESCO PIZZERIA  Manhattan      186     COLUMBUS AVENUE   \n",
       "41594932                     SUBWAY  Manhattan      223            AVENUE B   \n",
       "50018552  ORCHID DYNASTY RESTAURANT   Brooklyn     7706  NEW UTRECHT AVENUE   \n",
       "...                             ...        ...      ...                 ...   \n",
       "50057443                  VERITABLE  Manhattan     1201            2 AVENUE   \n",
       "50086591   NEW XING XING RESTAURANT   Brooklyn     4917            8 AVENUE   \n",
       "50048487                EASTFIELD'S  Manhattan     1479         YORK AVENUE   \n",
       "50093719              WU & NUSSBAUM  Manhattan     2897            BROADWAY   \n",
       "41611450        ANDAMAN THAI BISTRO  Manhattan     1843            1 AVENUE   \n",
       "\n",
       "          ZIPCODE       PHONE CUISINE DESCRIPTION INSPECTION DATE  \\\n",
       "CAMIS                                                               \n",
       "41592595  11217.0  7187830673     Café/Coffee/Tea      02/09/2017   \n",
       "50041609  11238.0  7186238809          Vegetarian      01/10/2020   \n",
       "41229180  10023.0  2127210066               Pizza      09/28/2018   \n",
       "41594932  10009.0  2122604206          Sandwiches      01/04/2018   \n",
       "50018552  11214.0  7188372017             Chinese      05/10/2017   \n",
       "...           ...         ...                 ...             ...   \n",
       "50057443  10065.0  2127530600            American      09/10/2018   \n",
       "50086591  11220.0  7188518089             Chinese      08/07/2019   \n",
       "50048487  10075.0  2129666032            American      08/30/2016   \n",
       "50093719  10025.0  2123624165               Other      02/26/2020   \n",
       "41611450  10128.0  2127225671                Thai      11/16/2017   \n",
       "\n",
       "                                                     ACTION VIOLATION CODE  \\\n",
       "CAMIS                                                                        \n",
       "41592595    Violations were cited in the following area(s).            10J   \n",
       "50041609    Violations were cited in the following area(s).            02G   \n",
       "41229180    Violations were cited in the following area(s).            10F   \n",
       "41594932    Violations were cited in the following area(s).            04A   \n",
       "50018552    Violations were cited in the following area(s).            08A   \n",
       "...                                                     ...            ...   \n",
       "50057443    Violations were cited in the following area(s).            10F   \n",
       "50086591  Establishment Closed by DOHMH.  Violations wer...            04H   \n",
       "50048487  Establishment Closed by DOHMH.  Violations wer...            06C   \n",
       "50093719    Violations were cited in the following area(s).            08A   \n",
       "41611450    Violations were cited in the following area(s).            02B   \n",
       "\n",
       "          ... RECORD DATE                                INSPECTION TYPE  \\\n",
       "CAMIS     ...                                                              \n",
       "41592595  ...  03/12/2021          Cycle Inspection / Initial Inspection   \n",
       "50041609  ...  03/12/2021          Cycle Inspection / Initial Inspection   \n",
       "41229180  ...  03/12/2021          Cycle Inspection / Initial Inspection   \n",
       "41594932  ...  03/12/2021          Cycle Inspection / Initial Inspection   \n",
       "50018552  ...  03/12/2021               Cycle Inspection / Re-inspection   \n",
       "...       ...         ...                                            ...   \n",
       "50057443  ...  03/12/2021               Cycle Inspection / Re-inspection   \n",
       "50086591  ...  03/12/2021          Cycle Inspection / Initial Inspection   \n",
       "50048487  ...  03/12/2021       Pre-permit (Operational) / Re-inspection   \n",
       "50093719  ...  03/12/2021  Pre-permit (Operational) / Initial Inspection   \n",
       "41611450  ...  03/12/2021               Cycle Inspection / Re-inspection   \n",
       "\n",
       "           Latitude  Longitude Community Board Council District Census Tract  \\\n",
       "CAMIS                                                                          \n",
       "41592595  40.675311 -73.975626           306.0             39.0      15900.0   \n",
       "50041609  40.679664 -73.964112           308.0             35.0      20300.0   \n",
       "41229180  40.775090 -73.980496           107.0              6.0      15300.0   \n",
       "41594932  40.729016 -73.978316           103.0              2.0       2800.0   \n",
       "50018552  40.614015 -74.000450           311.0             43.0      18200.0   \n",
       "...             ...        ...             ...              ...          ...   \n",
       "50057443  40.763278 -73.962403           108.0              4.0      11000.0   \n",
       "50086591  40.641515 -74.003272           312.0             38.0      10800.0   \n",
       "50048487  40.770967 -73.950748           108.0              5.0      13200.0   \n",
       "50093719  40.805987 -73.965384           109.0              7.0      19900.0   \n",
       "41611450  40.782764 -73.945077           108.0              5.0      15601.0   \n",
       "\n",
       "                BIN           BBL   NTA  \n",
       "CAMIS                                    \n",
       "41592595  3019869.0  3.009540e+09  BK37  \n",
       "50041609  3027687.0  3.011320e+09  BK64  \n",
       "41229180  1028941.0  1.011400e+09  MN14  \n",
       "41594932  1004932.0  1.003960e+09  MN28  \n",
       "50018552  3161388.0  3.062470e+09  BK28  \n",
       "...             ...           ...   ...  \n",
       "50057443  1043864.0  1.014180e+09  MN31  \n",
       "50086591  3137522.0  3.056370e+09  BK34  \n",
       "50048487  1046031.0  1.014730e+09  MN31  \n",
       "50093719  1057337.0  1.018950e+09  MN09  \n",
       "41611450  1078674.0  1.015580e+09  MN32  \n",
       "\n",
       "[200000 rows x 25 columns]"
      ]
     },
     "execution_count": 6,
     "metadata": {},
     "output_type": "execute_result"
    }
   ],
   "source": [
    "sample = df.sample(200000).set_index(\"CAMIS\")\n",
    "sample"
   ]
  },
  {
   "cell_type": "code",
   "execution_count": 7,
   "metadata": {},
   "outputs": [],
   "source": [
    "sample.to_csv(\"./sample_half.csv\")"
   ]
  },
  {
   "cell_type": "code",
   "execution_count": 5,
   "metadata": {},
   "outputs": [
    {
     "data": {
      "text/plain": [
       "197749.5"
      ]
     },
     "execution_count": 5,
     "metadata": {},
     "output_type": "execute_result"
    }
   ],
   "source": []
  },
  {
   "cell_type": "code",
   "execution_count": null,
   "metadata": {},
   "outputs": [],
   "source": []
  }
 ],
 "metadata": {
  "kernelspec": {
   "display_name": "Python 3",
   "language": "python",
   "name": "python3"
  },
  "language_info": {
   "codemirror_mode": {
    "name": "ipython",
    "version": 3
   },
   "file_extension": ".py",
   "mimetype": "text/x-python",
   "name": "python",
   "nbconvert_exporter": "python",
   "pygments_lexer": "ipython3",
   "version": "3.8.5"
  }
 },
 "nbformat": 4,
 "nbformat_minor": 4
}
