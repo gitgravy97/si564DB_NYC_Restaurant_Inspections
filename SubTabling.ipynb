{
 "cells": [
  {
   "cell_type": "markdown",
   "metadata": {},
   "source": [
    "A notebook of disassembling these other data tables into CSV's to import into datagrips"
   ]
  },
  {
   "cell_type": "code",
   "execution_count": 19,
   "metadata": {},
   "outputs": [],
   "source": [
    "import pandas as pd\n",
    "df = pd.read_csv('data/DOHMH_NYC_Restaurant_Inspection_Results.csv')"
   ]
  },
  {
   "cell_type": "markdown",
   "metadata": {},
   "source": [
    "Extracting food type, \"CUISINE DESCRIPTION\""
   ]
  },
  {
   "cell_type": "code",
   "execution_count": 13,
   "metadata": {},
   "outputs": [],
   "source": [
    "pd.DataFrame(df['CUISINE DESCRIPTION'].unique()).to_csv(\"data/subsets/FoodTypes.csv\", index=False, header=False)"
   ]
  },
  {
   "cell_type": "code",
   "execution_count": 15,
   "metadata": {},
   "outputs": [],
   "source": [
    "pd.DataFrame(df['ACTION'].unique()).to_csv(\"data/subsets/Outcomes.csv\", index=False, header=False)"
   ]
  },
  {
   "cell_type": "code",
   "execution_count": 17,
   "metadata": {},
   "outputs": [],
   "source": [
    "pd.DataFrame(df['INSPECTION TYPE'].unique()).to_csv(\"data/subsets/InspectionTypes.csv\", index=False, header=False)"
   ]
  },
  {
   "cell_type": "code",
   "execution_count": 18,
   "metadata": {},
   "outputs": [
    {
     "data": {
      "text/html": [
       "<div>\n",
       "<style scoped>\n",
       "    .dataframe tbody tr th:only-of-type {\n",
       "        vertical-align: middle;\n",
       "    }\n",
       "\n",
       "    .dataframe tbody tr th {\n",
       "        vertical-align: top;\n",
       "    }\n",
       "\n",
       "    .dataframe thead th {\n",
       "        text-align: right;\n",
       "    }\n",
       "</style>\n",
       "<table border=\"1\" class=\"dataframe\">\n",
       "  <thead>\n",
       "    <tr style=\"text-align: right;\">\n",
       "      <th></th>\n",
       "      <th>CAMIS</th>\n",
       "      <th>DBA</th>\n",
       "      <th>BORO</th>\n",
       "      <th>BUILDING</th>\n",
       "      <th>STREET</th>\n",
       "      <th>ZIPCODE</th>\n",
       "      <th>PHONE</th>\n",
       "      <th>CUISINE DESCRIPTION</th>\n",
       "      <th>INSPECTION DATE</th>\n",
       "      <th>ACTION</th>\n",
       "      <th>...</th>\n",
       "      <th>RECORD DATE</th>\n",
       "      <th>INSPECTION TYPE</th>\n",
       "      <th>Latitude</th>\n",
       "      <th>Longitude</th>\n",
       "      <th>Community Board</th>\n",
       "      <th>Council District</th>\n",
       "      <th>Census Tract</th>\n",
       "      <th>BIN</th>\n",
       "      <th>BBL</th>\n",
       "      <th>NTA</th>\n",
       "    </tr>\n",
       "  </thead>\n",
       "  <tbody>\n",
       "    <tr>\n",
       "      <th>0</th>\n",
       "      <td>41067778</td>\n",
       "      <td>SALA ONE NINE</td>\n",
       "      <td>Manhattan</td>\n",
       "      <td>35</td>\n",
       "      <td>WEST   19 STREET</td>\n",
       "      <td>10011.0</td>\n",
       "      <td>2122292300</td>\n",
       "      <td>Spanish</td>\n",
       "      <td>09/07/2016</td>\n",
       "      <td>Violations were cited in the following area(s).</td>\n",
       "      <td>...</td>\n",
       "      <td>03/12/2021</td>\n",
       "      <td>Cycle Inspection / Initial Inspection</td>\n",
       "      <td>40.739621</td>\n",
       "      <td>-73.992635</td>\n",
       "      <td>105.0</td>\n",
       "      <td>3.0</td>\n",
       "      <td>5400.0</td>\n",
       "      <td>1015467.0</td>\n",
       "      <td>1.008210e+09</td>\n",
       "      <td>MN13</td>\n",
       "    </tr>\n",
       "  </tbody>\n",
       "</table>\n",
       "<p>1 rows × 26 columns</p>\n",
       "</div>"
      ],
      "text/plain": [
       "      CAMIS            DBA       BORO BUILDING            STREET  ZIPCODE  \\\n",
       "0  41067778  SALA ONE NINE  Manhattan       35  WEST   19 STREET  10011.0   \n",
       "\n",
       "        PHONE CUISINE DESCRIPTION INSPECTION DATE  \\\n",
       "0  2122292300             Spanish      09/07/2016   \n",
       "\n",
       "                                            ACTION  ... RECORD DATE  \\\n",
       "0  Violations were cited in the following area(s).  ...  03/12/2021   \n",
       "\n",
       "                         INSPECTION TYPE   Latitude  Longitude  \\\n",
       "0  Cycle Inspection / Initial Inspection  40.739621 -73.992635   \n",
       "\n",
       "  Community Board Council District Census Tract        BIN           BBL   NTA  \n",
       "0           105.0              3.0       5400.0  1015467.0  1.008210e+09  MN13  \n",
       "\n",
       "[1 rows x 26 columns]"
      ]
     },
     "execution_count": 18,
     "metadata": {},
     "output_type": "execute_result"
    }
   ],
   "source": [
    "df.head(1)"
   ]
  },
  {
   "cell_type": "code",
   "execution_count": null,
   "metadata": {},
   "outputs": [],
   "source": [
    "pd.DataFrame(df[['VIOLATION CODE', 'VIOLATION DESCRIPTION']].unique()).to_csv(\"data/subsets/InspectionTypes.csv\", index=False, header=False)"
   ]
  },
  {
   "cell_type": "code",
   "execution_count": null,
   "metadata": {},
   "outputs": [],
   "source": []
  }
 ],
 "metadata": {
  "kernelspec": {
   "display_name": "Python 3",
   "language": "python",
   "name": "python3"
  },
  "language_info": {
   "codemirror_mode": {
    "name": "ipython",
    "version": 3
   },
   "file_extension": ".py",
   "mimetype": "text/x-python",
   "name": "python",
   "nbconvert_exporter": "python",
   "pygments_lexer": "ipython3",
   "version": "3.8.5"
  }
 },
 "nbformat": 4,
 "nbformat_minor": 4
}
